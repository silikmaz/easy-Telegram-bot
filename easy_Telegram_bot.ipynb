{
  "nbformat": 4,
  "nbformat_minor": 0,
  "metadata": {
    "colab": {
      "name": "easy-Telegram-bot.ipynb",
      "provenance": [],
      "collapsed_sections": [],
      "authorship_tag": "ABX9TyM72JhOpTqZqx1CXL1L0ieP",
      "include_colab_link": true
    },
    "kernelspec": {
      "name": "python3",
      "display_name": "Python 3"
    }
  },
  "cells": [
    {
      "cell_type": "markdown",
      "metadata": {
        "id": "view-in-github",
        "colab_type": "text"
      },
      "source": [
        "<a href=\"https://colab.research.google.com/github/silikmaz/easy-Telegram-bot/blob/master/easy_Telegram_bot.ipynb\" target=\"_parent\"><img src=\"https://colab.research.google.com/assets/colab-badge.svg\" alt=\"Open In Colab\"/></a>"
      ]
    },
    {
      "cell_type": "code",
      "metadata": {
        "id": "Ktjy3We8I0Qq",
        "colab_type": "code",
        "colab": {},
        "cellView": "form"
      },
      "source": [
        "#@title <b><font color=\"red\" size=\"+3\">←</font><font color=\"black\" size=\"+3\"> download bot!</font></b>\n",
        " \n",
        "!gdown https://github.com/silikmaz/easy-Telegram-bot/archive/master.zip\n",
        "!unzip master.zip\n",
        "%cd easy-Telegram-bot-master/"
      ],
      "execution_count": null,
      "outputs": []
    },
    {
      "cell_type": "code",
      "metadata": {
        "id": "0pI9b3hYBlNu",
        "colab_type": "code",
        "colab": {},
        "cellView": "form"
      },
      "source": [
        "#@title <b><font color=\"red\" size=\"+3\">←</font><font color=\"black\" size=\"+3\"> download dependences'!</font></b>\n",
        " \n",
        "!pip install pyrogram\n",
        "!pip install tgcrypto"
      ],
      "execution_count": null,
      "outputs": []
    },
    {
      "cell_type": "code",
      "metadata": {
        "id": "aabmNTJGSif1",
        "colab_type": "code",
        "colab": {},
        "cellView": "form"
      },
      "source": [
        "#@title <b><font color=\"red\" size=\"+3\">←</font><font color=\"black\" size=\"+3\"> preparation system</font></b>\n",
        " \n",
        "#@title Example form fields\n",
        "#@markdown <div> API can be obtained at my.telegram.org</div>  <div> you need to create apps for Windows</div>\n",
        "api_id = \"\" #@param {type:\"string\"}\n",
        "api_hash = \"\" #@param {type:\"string\"}\n",
        "#@markdown <div> cool settings, changing the symbol text </div>\n",
        " \n",
        "symbol = \"#\" #@param {type:\"string\"}\n",
        "team_percentage = \"hack\" #@param {type:\"string\"}\n",
        "texte_hack1 = \"Взлом собеседник в процессе ...\" #@param {type:\"string\"}\n",
        "percentage1 = \"100\" #@param {type:\"string\"}\n",
        "texte_hack1_1 = \"Взлом собеседник в процессе ...\" #@param {type:\"string\"}\n",
        "texte_hack2 = \"Поиск секретных данных об флп ...\" #@param {type:\"string\"}\n",
        "percentage2 = \"100\" #@param {type:\"string\"}\n",
        "texte_hack2_1 = \"Найдены данные о существовании флп на компе не только собеседников и других людей!\" #@param {type:\"string\"}\n",
        "\n",
        " \n",
        "\n",
        "import configparser\n",
        "config = configparser.ConfigParser()  # создаём объекта парсера\n",
        "config.read(\"./config.ini\")  \n",
        "config[\"pyrogram\"][\"api_id\"] = api_id\n",
        "config[\"pyrogram\"][\"api_hash\"] = api_hash\n",
        "config[\"code\"][\"symbol\"] = symbol\n",
        "config[\"code\"][\"team_percentage\"] = team_percentage\n",
        "config[\"code\"][\"texte_hack1\"] = texte_hack1\n",
        "config[\"code\"][\"percentage1\"] = percentage1\n",
        "config[\"code\"][\"texte_hack1_1\"] = texte_hack1_1\n",
        "config[\"code\"][\"texte_hack2\"] = texte_hack2\n",
        "config[\"code\"][\"percentage2\"] = percentage2\n",
        "config[\"code\"][\"texte_hack2_1\"] = texte_hack2_1\n",
        "with open('config.ini', 'w') as configfile:    # save\n",
        "     config.write(configfile)\n",
        "\n",
        "\n",
        "#@markdown ---\n",
        "#@markdown <Div>\n",
        "#@markdown Support the \"Railimag_nero\" project and speed up development:\n",
        "#@markdown </div> <div> \n",
        "#@markdown Sberbank Card - 4276 6719 5951 5831(the of Maznikov Vladislav Andreevich)\n",
        "#@markdown </div> <div> Yandex.Money -410015679919167</div> <div>  \n",
        "#@markdown PAYPAL - vladmaznikovya@mail.ru\n",
        "#@markdown </div> <div> Copyright © maznikov Vladislav </div>\n",
        " \n",
        "#@markdown <font color=\"red\" size=\"+1\">\n",
        "\n"
      ],
      "execution_count": 37,
      "outputs": []
    },
    {
      "cell_type": "code",
      "metadata": {
        "id": "wmiEim63NMSW",
        "colab_type": "code",
        "colab": {},
        "cellView": "form"
      },
      "source": [
        "#@title <b><font color=\"red\" size=\"+3\">←</font><font color=\"black\" size=\"+3\">play</font></b>\n",
        " \n",
        "!python3 start-tel.py"
      ],
      "execution_count": null,
      "outputs": []
    }
  ]
}